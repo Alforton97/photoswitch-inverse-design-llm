{
 "cells": [
  {
   "cell_type": "code",
   "execution_count": 3,
   "metadata": {
    "execution": {
     "iopub.execute_input": "2025-04-03T06:53:29.343536Z",
     "iopub.status.busy": "2025-04-03T06:53:29.343222Z",
     "iopub.status.idle": "2025-04-03T06:53:30.338348Z",
     "shell.execute_reply": "2025-04-03T06:53:30.337364Z",
     "shell.execute_reply.started": "2025-04-03T06:53:29.343513Z"
    },
    "trusted": true
   },
   "outputs": [
    {
     "name": "stdout",
     "output_type": "stream",
     "text": [
      "共生成 405 个训练样本。\n"
     ]
    }
   ],
   "source": [
    "import pandas as pd\n",
    "import json\n",
    "\n",
    "# 加载数据\n",
    "df = pd.read_csv('/kaggle/input/molecule/photoswitches.csv')\n",
    "\n",
    "# 你想用的四个波长字段名\n",
    "fields = {\n",
    "    'E isomer pi-pi* wavelength in nm': 'E isomer π–π*',\n",
    "    'E isomer n-pi* wavelength in nm': 'E isomer n–π*',\n",
    "    'Z isomer pi-pi* wavelength in nm': 'Z isomer π–π*',\n",
    "    'Z isomer n-pi* wavelength in nm': 'Z isomer n–π*'\n",
    "}\n",
    "\n",
    "data = []\n",
    "\n",
    "for _, row in df.iterrows():\n",
    "    prompt_parts = []\n",
    "    for col, name in fields.items():\n",
    "        value = row.get(col)\n",
    "        if pd.notna(value):  # 如果该字段不为空\n",
    "            prompt_parts.append(f\"{name} = {int(value)} nm\")\n",
    "\n",
    "    # 至少有一个 prompt 才保留该样本\n",
    "    if prompt_parts and pd.notna(row['SMILES']):\n",
    "        prompt = \"; \".join(prompt_parts) + \".\"\n",
    "        completion = row['SMILES']\n",
    "        data.append({\n",
    "            \"prompt\": prompt,\n",
    "            \"completion\": completion\n",
    "        })\n",
    "\n",
    "# 保存为 JSONL 文件（供 fine-tuning 使用）\n",
    "with open(\"photoswitch_full_prompt.jsonl\", \"w\") as f:\n",
    "    for item in data:\n",
    "        f.write(json.dumps(item) + \"\\n\")\n",
    "\n",
    "print(f\"共生成 {len(data)} 个训练样本。\")\n"
   ]
  },
  {
   "cell_type": "code",
   "execution_count": 4,
   "metadata": {
    "execution": {
     "iopub.execute_input": "2025-04-03T06:53:34.500671Z",
     "iopub.status.busy": "2025-04-03T06:53:34.500355Z",
     "iopub.status.idle": "2025-04-03T06:54:20.197629Z",
     "shell.execute_reply": "2025-04-03T06:54:20.196578Z",
     "shell.execute_reply.started": "2025-04-03T06:53:34.500648Z"
    },
    "trusted": true
   },
   "outputs": [
    {
     "data": {
      "application/vnd.jupyter.widget-view+json": {
       "model_id": "babeae08dfcc4aa292abbeb0b9c52881",
       "version_major": 2,
       "version_minor": 0
      },
      "text/plain": [
       "tokenizer_config.json:   0%|          | 0.00/3.07k [00:00<?, ?B/s]"
      ]
     },
     "metadata": {},
     "output_type": "display_data"
    },
    {
     "data": {
      "application/vnd.jupyter.widget-view+json": {
       "model_id": "32c580005dce4944a9a553408c45b348",
       "version_major": 2,
       "version_minor": 0
      },
      "text/plain": [
       "tokenizer.json:   0%|          | 0.00/7.03M [00:00<?, ?B/s]"
      ]
     },
     "metadata": {},
     "output_type": "display_data"
    },
    {
     "data": {
      "application/vnd.jupyter.widget-view+json": {
       "model_id": "dfea90b488d14a6f8b3b41c95d0bd51e",
       "version_major": 2,
       "version_minor": 0
      },
      "text/plain": [
       "config.json:   0%|          | 0.00/679 [00:00<?, ?B/s]"
      ]
     },
     "metadata": {},
     "output_type": "display_data"
    },
    {
     "data": {
      "application/vnd.jupyter.widget-view+json": {
       "model_id": "3518c619e4834e3fb8cbce5a5eb0bb3d",
       "version_major": 2,
       "version_minor": 0
      },
      "text/plain": [
       "model.safetensors:   0%|          | 0.00/3.55G [00:00<?, ?B/s]"
      ]
     },
     "metadata": {},
     "output_type": "display_data"
    },
    {
     "data": {
      "application/vnd.jupyter.widget-view+json": {
       "model_id": "fae4b85bc33746ccaa8a4739c6256fb7",
       "version_major": 2,
       "version_minor": 0
      },
      "text/plain": [
       "generation_config.json:   0%|          | 0.00/181 [00:00<?, ?B/s]"
      ]
     },
     "metadata": {},
     "output_type": "display_data"
    }
   ],
   "source": [
    "from transformers import AutoTokenizer, AutoModelForCausalLM, TrainingArguments, Trainer, DataCollatorForLanguageModeling\n",
    "from datasets import load_dataset, Dataset\n",
    "import json\n",
    "\n",
    "model_id = \"deepseek-ai/deepseek-r1-distill-qwen-1.5b\"\n",
    "\n",
    "tokenizer = AutoTokenizer.from_pretrained(model_id, trust_remote_code=True)\n",
    "model = AutoModelForCausalLM.from_pretrained(\n",
    "    model_id,\n",
    "    trust_remote_code=True,\n",
    "    device_map=\"auto\"\n",
    ")\n",
    "\n",
    "per_device_train_batch_size = 1\n",
    "gradient_accumulation_steps = 16\n",
    "fp16 = True\n"
   ]
  },
  {
   "cell_type": "code",
   "execution_count": 7,
   "metadata": {
    "execution": {
     "iopub.execute_input": "2025-04-03T07:02:32.372911Z",
     "iopub.status.busy": "2025-04-03T07:02:32.372551Z",
     "iopub.status.idle": "2025-04-03T07:02:32.388551Z",
     "shell.execute_reply": "2025-04-03T07:02:32.387772Z",
     "shell.execute_reply.started": "2025-04-03T07:02:32.372884Z"
    },
    "trusted": true
   },
   "outputs": [],
   "source": [
    "# 读取 JSONL 数据（你之前已经处理好）\n",
    "data = []\n",
    "with open(\"/kaggle/input/4wavelength/photoswitch_full_prompt.jsonl\", \"r\") as f:\n",
    "    for line in f:\n",
    "        item = json.loads(line)\n",
    "        prompt = item[\"prompt\"]\n",
    "        completion = item[\"completion\"]\n",
    "        full_text = prompt + \" \" + completion\n",
    "        data.append({\"text\": full_text})\n",
    "\n",
    "# 转换为 Hugging Face Dataset\n",
    "dataset = Dataset.from_list(data)\n"
   ]
  },
  {
   "cell_type": "code",
   "execution_count": null,
   "metadata": {
    "execution": {
     "iopub.execute_input": "2025-04-03T07:02:37.014065Z",
     "iopub.status.busy": "2025-04-03T07:02:37.013770Z",
     "iopub.status.idle": "2025-04-03T07:02:37.212848Z",
     "shell.execute_reply": "2025-04-03T07:02:37.211816Z",
     "shell.execute_reply.started": "2025-04-03T07:02:37.014043Z"
    },
    "trusted": true
   },
   "outputs": [
    {
     "data": {
      "application/vnd.jupyter.widget-view+json": {
       "model_id": "5ac323ddfb654214a441f0d1fbc29589",
       "version_major": 2,
       "version_minor": 0
      },
      "text/plain": [
       "Map:   0%|          | 0/405 [00:00<?, ? examples/s]"
      ]
     },
     "metadata": {},
     "output_type": "display_data"
    }
   ],
   "source": [
    "def tokenize_function(example):\n",
    "    return tokenizer(example[\"text\"], truncation=True, padding=\"max_length\", max_length=128)\n",
    "\n",
    "tokenized_dataset = dataset.map(tokenize_function, batched=True)\n"
   ]
  },
  {
   "cell_type": "code",
   "execution_count": 9,
   "metadata": {
    "execution": {
     "iopub.execute_input": "2025-04-03T07:02:40.624621Z",
     "iopub.status.busy": "2025-04-03T07:02:40.624304Z",
     "iopub.status.idle": "2025-04-03T07:02:40.629519Z",
     "shell.execute_reply": "2025-04-03T07:02:40.628601Z",
     "shell.execute_reply.started": "2025-04-03T07:02:40.624594Z"
    },
    "trusted": true
   },
   "outputs": [
    {
     "name": "stdout",
     "output_type": "stream",
     "text": [
      "['CC', '1', '=', 'CC', '=', 'CC', '=C', '1', 'N', '=N']\n"
     ]
    }
   ],
   "source": [
    "print(tokenizer.tokenize(\"CC1=CC=CC=C1N=N\"))\n"
   ]
  },
  {
   "cell_type": "code",
   "execution_count": null,
   "metadata": {
    "execution": {
     "iopub.execute_input": "2025-04-03T07:02:43.228980Z",
     "iopub.status.busy": "2025-04-03T07:02:43.228638Z"
    },
    "trusted": true
   },
   "outputs": [
    {
     "name": "stderr",
     "output_type": "stream",
     "text": [
      "/usr/local/lib/python3.10/dist-packages/transformers/training_args.py:1575: FutureWarning: `evaluation_strategy` is deprecated and will be removed in version 4.46 of 🤗 Transformers. Use `eval_strategy` instead\n",
      "  warnings.warn(\n",
      "<ipython-input-10-5dc2d6a84cc9>:17: FutureWarning: `tokenizer` is deprecated and will be removed in version 5.0.0 for `Trainer.__init__`. Use `processing_class` instead.\n",
      "  trainer = Trainer(\n",
      "\u001b[34m\u001b[1mwandb\u001b[0m: \u001b[33mWARNING\u001b[0m The `run_name` is currently set to the same value as `TrainingArguments.output_dir`. If this was not intended, please specify a different run name by setting the `TrainingArguments.run_name` parameter.\n",
      "\u001b[34m\u001b[1mwandb\u001b[0m: Using wandb-core as the SDK backend.  Please refer to https://wandb.me/wandb-core for more information.\n"
     ]
    },
    {
     "data": {
      "application/javascript": "\n        window._wandbApiKey = new Promise((resolve, reject) => {\n            function loadScript(url) {\n            return new Promise(function(resolve, reject) {\n                let newScript = document.createElement(\"script\");\n                newScript.onerror = reject;\n                newScript.onload = resolve;\n                document.body.appendChild(newScript);\n                newScript.src = url;\n            });\n            }\n            loadScript(\"https://cdn.jsdelivr.net/npm/postmate/build/postmate.min.js\").then(() => {\n            const iframe = document.createElement('iframe')\n            iframe.style.cssText = \"width:0;height:0;border:none\"\n            document.body.appendChild(iframe)\n            const handshake = new Postmate({\n                container: iframe,\n                url: 'https://wandb.ai/authorize'\n            });\n            const timeout = setTimeout(() => reject(\"Couldn't auto authenticate\"), 5000)\n            handshake.then(function(child) {\n                child.on('authorize', data => {\n                    clearTimeout(timeout)\n                    resolve(data)\n                });\n            });\n            })\n        });\n    ",
      "text/plain": [
       "<IPython.core.display.Javascript object>"
      ]
     },
     "metadata": {},
     "output_type": "display_data"
    }
   ],
   "source": [
    "training_args = TrainingArguments(\n",
    "    output_dir=\"./results\",\n",
    "    evaluation_strategy=\"no\",\n",
    "    learning_rate=0.01,\n",
    "    per_device_train_batch_size=1,\n",
    "    gradient_accumulation_steps=8,\n",
    "    num_train_epochs=3,\n",
    "    weight_decay=0.01,\n",
    "    fp16=True,\n",
    "    logging_steps=10,\n",
    "    save_total_limit=1,\n",
    "    save_strategy=\"epoch\"\n",
    ")\n",
    "\n",
    "data_collator = DataCollatorForLanguageModeling(tokenizer=tokenizer, mlm=False)\n",
    "\n",
    "trainer = Trainer(\n",
    "    model=model,\n",
    "    args=training_args,\n",
    "    train_dataset=tokenized_dataset,\n",
    "    tokenizer=tokenizer,\n",
    "    data_collator=data_collator,\n",
    ")\n",
    "\n",
    "trainer.train()\n",
    "\n",
    "trainer.save_model(\"/kaggle/working/fine_tuned_deepseek_photoswitch\")"
   ]
  }
 ],
 "metadata": {
  "kaggle": {
   "accelerator": "gpu",
   "dataSources": [
    {
     "datasetId": 7020667,
     "sourceId": 11237847,
     "sourceType": "datasetVersion"
    },
    {
     "datasetId": 7021619,
     "sourceId": 11239106,
     "sourceType": "datasetVersion"
    }
   ],
   "dockerImageVersionId": 30918,
   "isGpuEnabled": true,
   "isInternetEnabled": true,
   "language": "python",
   "sourceType": "notebook"
  },
  "kernelspec": {
   "display_name": "Python 3",
   "language": "python",
   "name": "python3"
  },
  "language_info": {
   "codemirror_mode": {
    "name": "ipython",
    "version": 3
   },
   "file_extension": ".py",
   "mimetype": "text/x-python",
   "name": "python",
   "nbconvert_exporter": "python",
   "pygments_lexer": "ipython3",
   "version": "3.10.12"
  }
 },
 "nbformat": 4,
 "nbformat_minor": 4
}
